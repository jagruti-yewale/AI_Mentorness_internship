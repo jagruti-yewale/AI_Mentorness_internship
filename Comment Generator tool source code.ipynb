{
 "cells": [
  {
   "cell_type": "code",
   "execution_count": 2,
   "id": "785e61ba",
   "metadata": {},
   "outputs": [
    {
     "name": "stdout",
     "output_type": "stream",
     "text": [
      "This is a great product!\n"
     ]
    }
   ],
   "source": [
    "import random\n",
    "\n",
    "# Example comments data\n",
    "comments = [\n",
    "    \"This is a great product!\",\n",
    "    \"I love this!\",\n",
    "    \"Terrible customer service.\",\n",
    "    \"Worst purchase ever.\",\n",
    "    \"Highly recommended.\"\n",
    "]\n",
    "\n",
    "# Tokenize comments\n",
    "words = [comment.split() for comment in comments]\n",
    "\n",
    "# Create a dictionary of transitions\n",
    "transitions = {}\n",
    "for comment in words:\n",
    "    for i in range(len(comment) - 1):\n",
    "        current_word = comment[i]\n",
    "        next_word = comment[i + 1]\n",
    "        if current_word in transitions:\n",
    "            transitions[current_word].append(next_word)\n",
    "        else:\n",
    "            transitions[current_word] = [next_word]\n",
    "\n",
    "# Function to generate comments\n",
    "def generate_comment(seed_word, next_words):\n",
    "    current_word = seed_word\n",
    "    generated_comment = seed_word\n",
    "    for _ in range(next_words):\n",
    "        if current_word in transitions:\n",
    "            next_word = random.choice(transitions[current_word])\n",
    "            generated_comment += \" \" + next_word\n",
    "            current_word = next_word\n",
    "        else:\n",
    "            break\n",
    "    return generated_comment\n",
    "\n",
    "# Test the comment generator\n",
    "seed_word = \"This\"\n",
    "next_words = 5\n",
    "generated_comment = generate_comment(seed_word, next_words)\n",
    "print(generated_comment)\n"
   ]
  }
 ],
 "metadata": {
  "kernelspec": {
   "display_name": "Python 3 (ipykernel)",
   "language": "python",
   "name": "python3"
  },
  "language_info": {
   "codemirror_mode": {
    "name": "ipython",
    "version": 3
   },
   "file_extension": ".py",
   "mimetype": "text/x-python",
   "name": "python",
   "nbconvert_exporter": "python",
   "pygments_lexer": "ipython3",
   "version": "3.11.4"
  }
 },
 "nbformat": 4,
 "nbformat_minor": 5
}
